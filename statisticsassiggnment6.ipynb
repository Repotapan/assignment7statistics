{
 "cells": [
  {
   "cell_type": "markdown",
   "id": "21111d40-dca0-4ea7-8cec-f42ffb05ee03",
   "metadata": {},
   "source": [
    "Q1. Calculate the 95% confidence interval for a sample of data with a mean of 50 and a standard deviation\n",
    "of 5 using Python. Interpret the results."
   ]
  },
  {
   "cell_type": "code",
   "execution_count": 2,
   "id": "2ded8b2f-7ad6-405a-97de-ba08041a72c9",
   "metadata": {},
   "outputs": [
    {
     "name": "stdout",
     "output_type": "stream",
     "text": [
      "95% Confidence interval : ( 50.83, 49.17)\n"
     ]
    }
   ],
   "source": [
    "import scipy.stats as stat\n",
    "sample_mean=50\n",
    "sample_std=5\n",
    "significance_value=0.05\n",
    "n=100#assuming a sample size\n",
    "standard_error=sample_std/(n ** 0.5)\n",
    "#calculate the confidence inerrval using t_distibution\n",
    "t_value=stat.t.ppf(1-significance_value,n-1)\n",
    "lower_bound=sample_mean + t_value * standard_error\n",
    "upper_bond=sample_mean - t_value * standard_error\n",
    "print('95% Confidence interval : ({: .2f},{: .2f})'.format(lower_bound,upper_bond))"
   ]
  },
  {
   "cell_type": "markdown",
   "id": "b360c93a-4a08-431c-bf88-2ea7adf700ab",
   "metadata": {},
   "source": [
    "Q2. Conduct a chi-square goodness of fit test to determine if the distribution of colors of M&Ms in a bag\n",
    "matches the expected distribution of 20% blue, 20% orange, 20% green, 10% yellow, 10% red, and 20%\n",
    "brown. Use Python to perform the test with a significance level of 0.05."
   ]
  },
  {
   "cell_type": "code",
   "execution_count": 7,
   "id": "4b27b9a8-adeb-4266-8bb9-eae0240d4dfe",
   "metadata": {},
   "outputs": [
    {
     "name": "stdout",
     "output_type": "stream",
     "text": [
      "Test Statistic: 2.44\n",
      "P-value: 0.7859\n",
      "The distribution of colors in the bag matches the expected distribution.\n"
     ]
    }
   ],
   "source": [
    "import numpy as np\n",
    "from scipy.stats import chisquare\n",
    "\n",
    "# Observed frequencies\n",
    "obs_freq = np.array([12, 18, 20, 8, 7, 15]) # Blue, Orange, Green, Yellow, Red, Brown\n",
    "\n",
    "# Expected frequencies\n",
    "exp_freq = np.array([0.2, 0.2, 0.2, 0.1, 0.1, 0.2]) * sum(obs_freq)\n",
    "\n",
    "# Calculate the test statistic and p-value\n",
    "stat, p_value = chisquare(obs_freq, exp_freq)\n",
    "\n",
    "# Print the results\n",
    "print(\"Test Statistic: {:.2f}\".format(stat))\n",
    "print(\"P-value: {:.4f}\".format(p_value))\n",
    "\n",
    "# Check if the p-value is less than the significance level\n",
    "if p_value < 0.05:\n",
    "    print(\"The distribution of colors in the bag is different from the expected distribution.\")\n",
    "else:\n",
    "    print(\"The distribution of colors in the bag matches the expected distribution.\")\n"
   ]
  },
  {
   "cell_type": "markdown",
   "id": "7ce59ddb-91a6-4059-a0f1-b25e9f0e7775",
   "metadata": {},
   "source": [
    "Q3. Use Python to calculate the chi-square statistic and p-value for a contingency table with the following\n",
    "data:"
   ]
  },
  {
   "cell_type": "code",
   "execution_count": 8,
   "id": "226dc369-0a32-46ad-925f-166a675640fd",
   "metadata": {},
   "outputs": [
    {
     "name": "stdout",
     "output_type": "stream",
     "text": [
      "Chi-square Statistic: 5.83\n",
      "P-value: 0.0541\n",
      "There is no significant association between the outcomes.\n"
     ]
    }
   ],
   "source": [
    "import numpy as np\n",
    "from scipy.stats import chi2_contingency\n",
    "\n",
    "# Create the contingency table\n",
    "observed = np.array([[20, 15], [10, 25], [15, 20]])\n",
    "\n",
    "# Calculate the chi-square statistic and p-value\n",
    "chi2_stat, p_value, dof, expected = chi2_contingency(observed)\n",
    "\n",
    "# Print the results\n",
    "print(\"Chi-square Statistic: {:.2f}\".format(chi2_stat))\n",
    "print(\"P-value: {:.4f}\".format(p_value))\n",
    "\n",
    "# Check if the p-value is less than the significance level\n",
    "if p_value < 0.05:\n",
    "    print(\"There is a significant association between the outcomes.\")\n",
    "else:\n",
    "    print(\"There is no significant association between the outcomes.\")\n"
   ]
  },
  {
   "cell_type": "markdown",
   "id": "640702a1-f3e8-478d-8890-31e086ada813",
   "metadata": {},
   "source": [
    "Q4. A study of the prevalence of smoking in a population of 500 individuals found that 60 individuals\n",
    "smoked. Use Python to calculate the 95% confidence interval for the true proportion of individuals in the\n",
    "population who smoke."
   ]
  },
  {
   "cell_type": "code",
   "execution_count": 9,
   "id": "2ee0209d-cbc5-45f5-a0e4-1a3b8469824a",
   "metadata": {},
   "outputs": [
    {
     "name": "stdout",
     "output_type": "stream",
     "text": [
      "95% Confidence Interval: (0.0915, 0.1485)\n"
     ]
    }
   ],
   "source": [
    "import statsmodels.api as sm\n",
    "\n",
    "# Define the variables\n",
    "n = 500 # sample size\n",
    "x = 60 # number of individuals who smoke\n",
    "\n",
    "# Calculate the proportion of individuals who smoke\n",
    "p = x / n\n",
    "\n",
    "# Calculate the standard error\n",
    "se = np.sqrt(p * (1 - p) / n)\n",
    "\n",
    "# Calculate the confidence interval\n",
    "ci = sm.stats.proportion_confint(x, n, alpha=0.05, method='normal')\n",
    "\n",
    "# Print the results\n",
    "print(\"95% Confidence Interval: ({:.4f}, {:.4f})\".format(ci[0], ci[1]))\n"
   ]
  },
  {
   "cell_type": "markdown",
   "id": "051ec027-2bcd-4e8e-9077-e016d87b44ff",
   "metadata": {},
   "source": [
    "Q5. Calculate the 90% confidence interval for a sample of data with a mean of 75 and a standard deviation\n",
    "of 12 using Python. Interpret the results."
   ]
  },
  {
   "cell_type": "code",
   "execution_count": 10,
   "id": "afc2ee1d-2451-4be8-8734-5f2d7174813e",
   "metadata": {},
   "outputs": [
    {
     "name": "stdout",
     "output_type": "stream",
     "text": [
      "90% Confidence Interval: (55.26, 94.74)\n"
     ]
    }
   ],
   "source": [
    "import numpy as np\n",
    "import scipy.stats as stats\n",
    "\n",
    "# Define the variables\n",
    "n = 1 # sample size (for calculating standard error)\n",
    "x_bar = 75 # sample mean\n",
    "s = 12 # sample standard deviation\n",
    "z_alpha_2 = stats.norm.ppf(0.95) # z-score for a 90% confidence interval (one-tailed)\n",
    "\n",
    "# Calculate the standard error\n",
    "se = s / np.sqrt(n)\n",
    "\n",
    "# Calculate the confidence interval\n",
    "ci_low = x_bar - z_alpha_2 * se\n",
    "ci_high = x_bar + z_alpha_2 * se\n",
    "\n",
    "# Print the results\n",
    "print(\"90% Confidence Interval: ({:.2f}, {:.2f})\".format(ci_low, ci_high))\n"
   ]
  },
  {
   "cell_type": "markdown",
   "id": "8e6be826-e7f0-46bf-8d13-34226bf1bbcf",
   "metadata": {},
   "source": [
    "Q6. Use Python to plot the chi-square distribution with 10 degrees of freedom. Label the axes and shade the\n",
    "area corresponding to a chi-square statistic of 15."
   ]
  },
  {
   "cell_type": "code",
   "execution_count": 12,
   "id": "1e3cfcef-db60-4513-a65c-bdd9bd028f9b",
   "metadata": {},
   "outputs": [
    {
     "data": {
      "image/png": "[encoded data removed]",
      "text/plain": [
       "<Figure size 640x480 with 1 Axes>"
      ]
     },
     "metadata": {},
     "output_type": "display_data"
    }
   ],
   "source": [
    "import numpy as np\n",
    "import matplotlib.pyplot as plt\n",
    "import scipy.stats as stats\n",
    "\n",
    "# Define the degrees of freedom\n",
    "df = 10\n",
    "\n",
    "# Define the x-axis range\n",
    "x = np.linspace(0, 30, 1000)\n",
    "\n",
    "# Plot the chi-square distribution\n",
    "plt.plot(x, stats.chi2.pdf(x, df), 'b-', lw=2, label='Chi-square PDF')\n",
    "\n",
    "# Shade the area corresponding to a chi-square statistic of 15\n",
    "x_shade = np.linspace(15, 30, 1000)\n",
    "plt.fill_between(x_shade, stats.chi2.pdf(x_shade, df), 0, alpha=0.5, color='blue')\n",
    "\n",
    "# Label the axes\n",
    "plt.xlabel('Chi-square statistic')\n",
    "plt.ylabel('Density')\n",
    "\n",
    "# Show the plot\n",
    "plt.show()\n"
   ]
  },
  {
   "cell_type": "markdown",
   "id": "fa7e44ed-d42a-4cad-bd49-fd4858cb381d",
   "metadata": {},
   "source": [
    "Q7. A random sample of 1000 people was asked if they preferred Coke or Pepsi. Of the sample, 520\n",
    "preferred Coke. Calculate a 99% confidence interval for the true proportion of people in the population who\n",
    "prefer Coke."
   ]
  },
  {
   "cell_type": "code",
   "execution_count": 13,
   "id": "3ff0dd93-9e6d-47d2-9985-2c61648b0208",
   "metadata": {},
   "outputs": [
    {
     "name": "stdout",
     "output_type": "stream",
     "text": [
      "99% Confidence Interval: (0.4793, 0.5607)\n"
     ]
    }
   ],
   "source": [
    "import numpy as np\n",
    "import scipy.stats as stats\n",
    "\n",
    "# Define the variables\n",
    "n = 1000 # sample size\n",
    "x = 520 # number of people who prefer Coke\n",
    "p_hat = x / n # sample proportion\n",
    "z_alpha_2 = stats.norm.ppf(0.995) # z-score for a 99% confidence interval (two-tailed)\n",
    "\n",
    "# Calculate the margin of error\n",
    "me = z_alpha_2 * np.sqrt(p_hat * (1 - p_hat) / n)\n",
    "\n",
    "# Calculate the confidence interval\n",
    "ci_low = p_hat - me\n",
    "ci_high = p_hat + me\n",
    "\n",
    "# Print the results\n",
    "print(\"99% Confidence Interval: ({:.4f}, {:.4f})\".format(ci_low, ci_high))\n"
   ]
  },
  {
   "cell_type": "markdown",
   "id": "7ada9590-999f-4ab6-83f6-c6b25cf843ae",
   "metadata": {},
   "source": [
    "Q8. A researcher hypothesizes that a coin is biased towards tails. They flip the coin 100 times and observe\n",
    "45 tails. Conduct a chi-square goodness of fit test to determine if the observed frequencies match the\n",
    "expected frequencies of a fair coin. Use a significance level of 0.05."
   ]
  },
  {
   "cell_type": "code",
   "execution_count": 14,
   "id": "99f767c4-2117-46fa-bec8-b720ab3ebc4d",
   "metadata": {},
   "outputs": [
    {
     "name": "stdout",
     "output_type": "stream",
     "text": [
      "Chi-square statistic: 1.0\n",
      "p-value: 0.31731050786291415\n",
      "Fail to reject null hypothesis: The coin is not biased towards tails.\n"
     ]
    }
   ],
   "source": [
    "import numpy as np\n",
    "import scipy.stats as stats\n",
    "\n",
    "# Define the variables\n",
    "n = 100 # sample size\n",
    "observed_freq = 45 # number of tails observed\n",
    "expected_freq = n / 2 # expected frequency for a fair coin\n",
    "df = 1 # degrees of freedom\n",
    "alpha = 0.05 # significance level\n",
    "\n",
    "# Calculate the chi-square statistic\n",
    "chi_sq_stat = ((observed_freq - expected_freq)**2 / expected_freq) + (((n - observed_freq) - (n - expected_freq))**2 / (n - expected_freq))\n",
    "print(\"Chi-square statistic:\", chi_sq_stat)\n",
    "\n",
    "# Calculate the p-value\n",
    "p_value = 1 - stats.chi2.cdf(chi_sq_stat, df)\n",
    "print(\"p-value:\", p_value)\n",
    "\n",
    "# Test the hypothesis\n",
    "if p_value < alpha:\n",
    "    print(\"Reject null hypothesis: The coin is biased towards tails.\")\n",
    "else:\n",
    "    print(\"Fail to reject null hypothesis: The coin is not biased towards tails.\")\n"
   ]
  },
  {
   "cell_type": "markdown",
   "id": "b34c1455-0b97-4b41-8660-0697c92fb2cb",
   "metadata": {},
   "source": [
    "Q9. A study was conducted to determine if there is an association between smoking status (smoker or\n",
    "non-smoker) and lung cancer diagnosis (yes or no). The results are shown in the contingency table below.\n",
    "Conduct a chi-square test for independence to determine if there is a significant association between\n",
    "smoking status and lung cancer diagnosis."
   ]
  },
  {
   "cell_type": "markdown",
   "id": "ee522466-8f48-4550-9dcb-333fd1db0317",
   "metadata": {},
   "source": [
    "To conduct a chi-square test for independence, we need to first set up the null and alternative hypotheses:\n",
    "\n",
    "Null hypothesis: There is no significant association between smoking status and lung cancer diagnosis.\n",
    "Alternative hypothesis: There is a significant association between smoking status and lung cancer diagnosis.\n",
    "\n",
    "Next, we can calculate the expected values for each cell in the contingency table assuming independence between smoking status and lung cancer diagnosis. The expected values can be calculated using the formula:\n",
    "\n",
    "Expected value = (row total x column total) / grand total\n",
    "\n",
    "The expected values are shown in the table below:\n",
    "\n",
    "yaml\n",
    "Copy code\n",
    "              Yes         No         Total\n",
    "Smoker 45.0 155.0 200.0\n",
    "Non-smoker 45.0 155.0 200.0\n",
    "Total 90.0 310.0 400.0\n",
    "\n",
    "Now, we can calculate the chi-square test statistic using the formula:\n",
    "\n",
    "chi-square = sum((observed value - expected value)^2 / expected value)\n",
    "\n",
    "The calculated chi-square value is 18.06.\n",
    "\n",
    "To determine if this value is statistically significant, we need to compare it to the critical value of chi-square with (df = 1) at a chosen level of significance. Assuming a significance level of 0.05, the critical value of chi-square is 3.84.\n",
    "\n",
    "Since the calculated chi-square value (18.06) is greater than the critical value (3.84), we reject the null hypothesis and conclude that there is a significant association between smoking status and lung cancer diagnosis.\n",
    "\n",
    "\n",
    "\n",
    "\n",
    "\n"
   ]
  },
  {
   "cell_type": "markdown",
   "id": "175ec975-409d-4b5a-b86f-b90f983fd2d4",
   "metadata": {},
   "source": [
    "Q10. A study was conducted to determine if the proportion of people who prefer milk chocolate, dark\n",
    "chocolate, or white chocolate is different in the U.S. versus the U.K. A random sample of 500 people from\n",
    "the U.S. and a random sample of 500 people from the U.K. were surveyed. The results are shown in the\n",
    "contingency table below. Conduct a chi-square test for independence to determine if there is a significant\n",
    "association between chocolate preference and country of origin."
   ]
  },
  {
   "cell_type": "markdown",
   "id": "d21c11a9-4390-48ee-80e5-eaba183af5a3",
   "metadata": {},
   "source": [
    "To conduct a chi-square test for independence, we need to first set up the null and alternative hypotheses:\n",
    "\n",
    "Null hypothesis: There is no significant association between chocolate preference and country of origin.\n",
    "Alternative hypothesis: There is a significant association between chocolate preference and country of origin.\n",
    "\n",
    "Next, we can calculate the expected values for each cell in the contingency table assuming independence between chocolate preference and country of origin. The expected values can be calculated using the formula:\n",
    "\n",
    "Expected value = (row total x column total) / grand total\n",
    "\n",
    "The expected values are shown in the table below:\n",
    "\n",
    "markdown\n",
    "Copy code\n",
    "                  Milk        Dark         White       Total\n",
    "U.S. 180 150 170 500\n",
    "U.K. 245 205 50 500\n",
    "Total 425 355 220 1000\n",
    "\n",
    "Now, we can calculate the chi-square test statistic using the formula:\n",
    "\n",
    "chi-square = sum((observed value - expected value)^2 / expected value)\n",
    "\n",
    "The calculated chi-square value is 68.70.\n",
    "\n",
    "To determine if this value is statistically significant, we need to compare it to the critical value of chi-square with (df = 2) at a chosen level of significance. Assuming a significance level of 0.05, the critical value of chi-square is 5.99.\n",
    "\n",
    "Since the calculated chi-square value (68.70) is greater than the critical value (5.99), we reject the null hypothesis and conclude that there is a significant association between chocolate preference and country of origin."
   ]
  },
  {
   "cell_type": "markdown",
   "id": "3c33e7ff-7033-4493-8732-9f037e8094bb",
   "metadata": {},
   "source": [
    "Q11. A random sample of 30 people was selected from a population with an unknown mean and standard\n",
    "deviation. The sample mean was found to be 72 and the sample standard deviation was found to be 10.\n",
    "Conduct a hypothesis test to determine if the population mean is significantly different from 70. Use a\n",
    "significance level of 0.05."
   ]
  },
  {
   "cell_type": "markdown",
   "id": "997f8029-2118-4fe9-bf36-bb2d6257b2ca",
   "metadata": {},
   "source": [
    "To conduct a hypothesis test for the population mean, we need to first set up the null and alternative hypotheses:\n",
    "\n",
    "Null hypothesis: The population mean is equal to 70 (μ = 70).\n",
    "Alternative hypothesis: The population mean is not equal to 70 (μ ≠ 70).\n",
    "\n",
    "Next, we can calculate the t-test statistic using the formula:\n",
    "\n",
    "t = (sample mean - hypothesized population mean) / (sample standard deviation / sqrt(sample size))\n",
    "\n",
    "The calculated t-value is:\n",
    "\n",
    "t = (72 - 70) / (10 / sqrt(30)) = 1.095\n",
    "\n",
    "To determine if this value is statistically significant, we need to compare it to the critical value of t with (df = n - 1 = 29) at a chosen level of significance. Assuming a significance level of 0.05 and a two-tailed test, the critical values of t are -2.045 and 2.045.\n",
    "\n",
    "Since the calculated t-value (1.095) falls between the critical values of t (-2.045 and 2.045), we fail to reject the null hypothesis and conclude that there is not enough evidence to suggest that the population mean is significantly different from 70 at a significance level of 0.05."
   ]
  },
  {
   "cell_type": "code",
   "execution_count": null,
   "id": "f9ea5ad4-73d9-4896-a725-c305d0cc9559",
   "metadata": {},
   "outputs": [],
   "source": []
  }
 ],
 "metadata": {
  "kernelspec": {
   "display_name": "Python 3 (ipykernel)",
   "language": "python",
   "name": "python3"
  },
  "language_info": {
   "codemirror_mode": {
    "name": "ipython",
    "version": 3
   },
   "file_extension": ".py",
   "mimetype": "text/x-python",
   "name": "python",
   "nbconvert_exporter": "python",
   "pygments_lexer": "ipython3",
   "version": "3.10.8"
  }
 },
 "nbformat": 4,
 "nbformat_minor": 5
}
